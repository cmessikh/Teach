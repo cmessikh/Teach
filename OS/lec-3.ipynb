{
 "cells": [
  {
   "cell_type": "code",
   "execution_count": 12,
   "metadata": {},
   "outputs": [
    {
     "name": "stdout",
     "output_type": "stream",
     "text": [
      "Hello\n",
      "[5, 1.6, 'A', 'Hello', -3, 'Salam', 4, 1.2]\n"
     ]
    }
   ],
   "source": [
    "A = [5, 1.6, 'A', 'Hello', -3]\n",
    "print(A[3])\n",
    "\n",
    "A.append(input(\"Enter name:\"))\n",
    "A.append(4)\n",
    "B = 1.2\n",
    "A.append(B)\n",
    "\n",
    "print(A)"
   ]
  },
  {
   "cell_type": "code",
   "execution_count": 15,
   "metadata": {},
   "outputs": [
    {
     "name": "stdout",
     "output_type": "stream",
     "text": [
      "[5, 1.6, 'A', 'Hello', -3, 'Salam', 4, 1.2, 5, 1.6, 'A', 'Hello', -3]\n",
      "[5, 'A', 'Hello', -3, 'Salam', 4, 1.2, 5, 1.6, 'A', 'Hello', -3]\n",
      "[]\n"
     ]
    }
   ],
   "source": [
    "C = A[:5]\n",
    "D = A + C\n",
    "print(D)\n",
    "D.remove(1.6)\n",
    "print(D)\n",
    "D.clear()\n",
    "print(D)"
   ]
  },
  {
   "cell_type": "code",
   "execution_count": 14,
   "metadata": {},
   "outputs": [
    {
     "name": "stdout",
     "output_type": "stream",
     "text": [
      "[9 9 9 9 9]\n"
     ]
    }
   ],
   "source": [
    "import numpy as np\n",
    "N = np.array([1,2,3,4,5])\n",
    "M = np.array([8,7,6,5,4])\n",
    "print(N + M)"
   ]
  },
  {
   "cell_type": "code",
   "execution_count": 24,
   "metadata": {},
   "outputs": [
    {
     "name": "stdout",
     "output_type": "stream",
     "text": [
      "(141, 1419600)\n"
     ]
    }
   ],
   "source": [
    "def prod(*args):\n",
    "    p = 1\n",
    "    for x in args:\n",
    "        p *= x\n",
    "    return p\n",
    "\n",
    "def multi(*args):\n",
    "    c = sum(args)\n",
    "    d = prod(*args)\n",
    "    return c, d\n",
    "\n",
    "tp = (5,7,52,65,12)\n",
    "print(multi(*tp))"
   ]
  }
 ],
 "metadata": {
  "kernelspec": {
   "display_name": "Python 3",
   "language": "python",
   "name": "python3"
  },
  "language_info": {
   "codemirror_mode": {
    "name": "ipython",
    "version": 3
   },
   "file_extension": ".py",
   "mimetype": "text/x-python",
   "name": "python",
   "nbconvert_exporter": "python",
   "pygments_lexer": "ipython3",
   "version": "3.8.10"
  },
  "orig_nbformat": 4
 },
 "nbformat": 4,
 "nbformat_minor": 2
}
